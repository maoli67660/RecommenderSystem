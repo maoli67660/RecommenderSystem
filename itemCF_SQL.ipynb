{
 "cells": [
  {
   "cell_type": "code",
   "execution_count": 199,
   "id": "a6a42a70-207c-4531-ae8b-5b6188cef776",
   "metadata": {},
   "outputs": [],
   "source": [
    "import pandas as pd\n",
    "from pandasql import sqldf\n",
    "import matplotlib.pyplot as plt\n",
    "import seaborn as sns\n",
    "\n",
    "sns.set()"
   ]
  },
  {
   "cell_type": "code",
   "execution_count": 211,
   "id": "510b9871-b11a-4df4-8d11-5b35fa5978f9",
   "metadata": {},
   "outputs": [
    {
     "name": "stdout",
     "output_type": "stream",
     "text": [
      "README.txt   links.csv    movies.csv   ratings.csv  tags.csv\n"
     ]
    }
   ],
   "source": [
    "ls ml-latest-small"
   ]
  },
  {
   "cell_type": "code",
   "execution_count": 220,
   "id": "53199466-e77a-4a95-bfa7-4abbf798f7de",
   "metadata": {},
   "outputs": [
    {
     "name": "stdout",
     "output_type": "stream",
     "text": [
      "(100836, 4)\n"
     ]
    },
    {
     "data": {
      "text/html": [
       "<div>\n",
       "<style scoped>\n",
       "    .dataframe tbody tr th:only-of-type {\n",
       "        vertical-align: middle;\n",
       "    }\n",
       "\n",
       "    .dataframe tbody tr th {\n",
       "        vertical-align: top;\n",
       "    }\n",
       "\n",
       "    .dataframe thead th {\n",
       "        text-align: right;\n",
       "    }\n",
       "</style>\n",
       "<table border=\"1\" class=\"dataframe\">\n",
       "  <thead>\n",
       "    <tr style=\"text-align: right;\">\n",
       "      <th></th>\n",
       "      <th>userId</th>\n",
       "      <th>movieId</th>\n",
       "      <th>rating</th>\n",
       "      <th>timestamp</th>\n",
       "    </tr>\n",
       "  </thead>\n",
       "  <tbody>\n",
       "    <tr>\n",
       "      <th>0</th>\n",
       "      <td>1</td>\n",
       "      <td>1</td>\n",
       "      <td>4.0</td>\n",
       "      <td>964982703</td>\n",
       "    </tr>\n",
       "    <tr>\n",
       "      <th>1</th>\n",
       "      <td>1</td>\n",
       "      <td>3</td>\n",
       "      <td>4.0</td>\n",
       "      <td>964981247</td>\n",
       "    </tr>\n",
       "    <tr>\n",
       "      <th>2</th>\n",
       "      <td>1</td>\n",
       "      <td>6</td>\n",
       "      <td>4.0</td>\n",
       "      <td>964982224</td>\n",
       "    </tr>\n",
       "  </tbody>\n",
       "</table>\n",
       "</div>"
      ],
      "text/plain": [
       "   userId  movieId  rating  timestamp\n",
       "0       1        1     4.0  964982703\n",
       "1       1        3     4.0  964981247\n",
       "2       1        6     4.0  964982224"
      ]
     },
     "execution_count": 220,
     "metadata": {},
     "output_type": "execute_result"
    }
   ],
   "source": [
    "tags_df = pd.read_csv('ml-latest-small/tags.csv')\n",
    "ratings_df = pd.read_csv('ml-latest-small/ratings.csv')\n",
    "movie_info_df = pd.read_csv('ml-latest-small/movies.csv')\n",
    "print(ratings_df.shape)\n",
    "ratings_df.head(3)"
   ]
  },
  {
   "cell_type": "code",
   "execution_count": null,
   "id": "be223991-c745-4ca1-b1eb-6dae247af1e7",
   "metadata": {},
   "outputs": [],
   "source": []
  },
  {
   "cell_type": "code",
   "execution_count": null,
   "id": "d3fcdb44-a0c1-4390-8f6e-62d51c81aa71",
   "metadata": {},
   "outputs": [],
   "source": []
  },
  {
   "cell_type": "code",
   "execution_count": null,
   "id": "ba2f151a-ebb4-4526-b500-af1db5880336",
   "metadata": {},
   "outputs": [],
   "source": []
  },
  {
   "cell_type": "code",
   "execution_count": null,
   "id": "cc4688b4-cfed-4c72-b8eb-7fd3a4af7847",
   "metadata": {},
   "outputs": [],
   "source": []
  },
  {
   "cell_type": "code",
   "execution_count": null,
   "id": "5d257ff2-e7a4-4c12-81a8-27a42b299d95",
   "metadata": {},
   "outputs": [],
   "source": []
  },
  {
   "cell_type": "code",
   "execution_count": null,
   "id": "076cbc59-a62b-4052-ab05-da3172c09b59",
   "metadata": {},
   "outputs": [],
   "source": []
  },
  {
   "cell_type": "code",
   "execution_count": null,
   "id": "47b1683d-96db-433f-8b3a-d189f46376ef",
   "metadata": {},
   "outputs": [],
   "source": []
  },
  {
   "cell_type": "code",
   "execution_count": null,
   "id": "6a34764e-c32f-47f6-82c9-d40f15671e43",
   "metadata": {},
   "outputs": [],
   "source": []
  },
  {
   "cell_type": "code",
   "execution_count": null,
   "id": "3fb5f851-5397-4f16-9918-b23bdcdc737a",
   "metadata": {},
   "outputs": [],
   "source": []
  },
  {
   "cell_type": "code",
   "execution_count": null,
   "id": "5b6f28cc-caa6-4629-84e1-a2c0267d86f5",
   "metadata": {},
   "outputs": [],
   "source": []
  },
  {
   "cell_type": "code",
   "execution_count": null,
   "id": "04aa734b-1274-44ca-8daf-342ced0dad94",
   "metadata": {},
   "outputs": [],
   "source": []
  },
  {
   "cell_type": "code",
   "execution_count": null,
   "id": "f67c5774-6184-495c-bf3b-555ed8bc4743",
   "metadata": {},
   "outputs": [],
   "source": []
  },
  {
   "cell_type": "code",
   "execution_count": 203,
   "id": "54502217-d9c8-4713-ab02-1542120d2848",
   "metadata": {},
   "outputs": [
    {
     "data": {
      "text/plain": [
       "(3192, 4)"
      ]
     },
     "execution_count": 203,
     "metadata": {},
     "output_type": "execute_result"
    }
   ],
   "source": [
    "ratings_df_sample = ratings_df[ratings_df.movieId<100]  # 缩小数量\n",
    "ratings_df_sample.shape"
   ]
  },
  {
   "cell_type": "code",
   "execution_count": 188,
   "id": "dd343c88-44bc-4b36-b151-21b2a223684d",
   "metadata": {},
   "outputs": [
    {
     "data": {
      "text/html": [
       "<div>\n",
       "<style scoped>\n",
       "    .dataframe tbody tr th:only-of-type {\n",
       "        vertical-align: middle;\n",
       "    }\n",
       "\n",
       "    .dataframe tbody tr th {\n",
       "        vertical-align: top;\n",
       "    }\n",
       "\n",
       "    .dataframe thead th {\n",
       "        text-align: right;\n",
       "    }\n",
       "</style>\n",
       "<table border=\"1\" class=\"dataframe\">\n",
       "  <thead>\n",
       "    <tr style=\"text-align: right;\">\n",
       "      <th></th>\n",
       "      <th>item_id_ctr</th>\n",
       "      <th>item_id_rec</th>\n",
       "      <th>vec_dot</th>\n",
       "    </tr>\n",
       "  </thead>\n",
       "  <tbody>\n",
       "    <tr>\n",
       "      <th>0</th>\n",
       "      <td>1</td>\n",
       "      <td>2</td>\n",
       "      <td>896.50</td>\n",
       "    </tr>\n",
       "    <tr>\n",
       "      <th>1</th>\n",
       "      <td>1</td>\n",
       "      <td>3</td>\n",
       "      <td>430.75</td>\n",
       "    </tr>\n",
       "    <tr>\n",
       "      <th>2</th>\n",
       "      <td>1</td>\n",
       "      <td>4</td>\n",
       "      <td>13.75</td>\n",
       "    </tr>\n",
       "  </tbody>\n",
       "</table>\n",
       "</div>"
      ],
      "text/plain": [
       "   item_id_ctr  item_id_rec  vec_dot\n",
       "0            1            2   896.50\n",
       "1            1            3   430.75\n",
       "2            1            4    13.75"
      ]
     },
     "execution_count": 188,
     "metadata": {},
     "output_type": "execute_result"
    }
   ],
   "source": [
    "vec_dot = sqldf('''\n",
    "    SELECT \n",
    "         t1.movieId AS item_id_ctr\n",
    "        ,t2.movieId AS item_id_rec\n",
    "        ,SUM(t1.rating * t2.rating) as vec_dot\n",
    "    FROM ratings_df_sample t1\n",
    "    INNER JOIN ratings_df_sample t2\n",
    "    ON item_id_ctr <> item_id_rec AND t1.userId=t2.userId\n",
    "    GROUP BY item_id_ctr, item_id_rec\n",
    "''')\n",
    "vec_dot.head(3)"
   ]
  },
  {
   "cell_type": "code",
   "execution_count": 189,
   "id": "b05b95a9-9bda-47e2-825d-e6643b7f9264",
   "metadata": {},
   "outputs": [
    {
     "data": {
      "text/html": [
       "<div>\n",
       "<style scoped>\n",
       "    .dataframe tbody tr th:only-of-type {\n",
       "        vertical-align: middle;\n",
       "    }\n",
       "\n",
       "    .dataframe tbody tr th {\n",
       "        vertical-align: top;\n",
       "    }\n",
       "\n",
       "    .dataframe thead th {\n",
       "        text-align: right;\n",
       "    }\n",
       "</style>\n",
       "<table border=\"1\" class=\"dataframe\">\n",
       "  <thead>\n",
       "    <tr style=\"text-align: right;\">\n",
       "      <th></th>\n",
       "      <th>item_id</th>\n",
       "      <th>vec_len</th>\n",
       "    </tr>\n",
       "  </thead>\n",
       "  <tbody>\n",
       "    <tr>\n",
       "      <th>0</th>\n",
       "      <td>1</td>\n",
       "      <td>58.774995</td>\n",
       "    </tr>\n",
       "    <tr>\n",
       "      <th>1</th>\n",
       "      <td>2</td>\n",
       "      <td>37.151716</td>\n",
       "    </tr>\n",
       "    <tr>\n",
       "      <th>2</th>\n",
       "      <td>3</td>\n",
       "      <td>24.682990</td>\n",
       "    </tr>\n",
       "  </tbody>\n",
       "</table>\n",
       "</div>"
      ],
      "text/plain": [
       "   item_id    vec_len\n",
       "0        1  58.774995\n",
       "1        2  37.151716\n",
       "2        3  24.682990"
      ]
     },
     "execution_count": 189,
     "metadata": {},
     "output_type": "execute_result"
    }
   ],
   "source": [
    "item_vec_len = sqldf('''\n",
    "SELECT\n",
    "     movieId AS item_id\n",
    "    ,SQRT(SUM(rating*rating)) AS vec_len\n",
    "FROM ratings_df_sample t\n",
    "GROUP BY item_id\n",
    "''')\n",
    "\n",
    "item_vec_len.head(3)"
   ]
  },
  {
   "cell_type": "code",
   "execution_count": 190,
   "id": "0d4d1d9c-1c46-4354-b14f-1447508395bd",
   "metadata": {},
   "outputs": [
    {
     "data": {
      "text/html": [
       "<div>\n",
       "<style scoped>\n",
       "    .dataframe tbody tr th:only-of-type {\n",
       "        vertical-align: middle;\n",
       "    }\n",
       "\n",
       "    .dataframe tbody tr th {\n",
       "        vertical-align: top;\n",
       "    }\n",
       "\n",
       "    .dataframe thead th {\n",
       "        text-align: right;\n",
       "    }\n",
       "</style>\n",
       "<table border=\"1\" class=\"dataframe\">\n",
       "  <thead>\n",
       "    <tr style=\"text-align: right;\">\n",
       "      <th></th>\n",
       "      <th>item_id_ctr</th>\n",
       "      <th>item_id_rec</th>\n",
       "      <th>cos_sim</th>\n",
       "    </tr>\n",
       "  </thead>\n",
       "  <tbody>\n",
       "    <tr>\n",
       "      <th>0</th>\n",
       "      <td>1</td>\n",
       "      <td>80</td>\n",
       "      <td>0.030077</td>\n",
       "    </tr>\n",
       "    <tr>\n",
       "      <th>1</th>\n",
       "      <td>1</td>\n",
       "      <td>4</td>\n",
       "      <td>0.035573</td>\n",
       "    </tr>\n",
       "    <tr>\n",
       "      <th>2</th>\n",
       "      <td>1</td>\n",
       "      <td>40</td>\n",
       "      <td>0.041815</td>\n",
       "    </tr>\n",
       "  </tbody>\n",
       "</table>\n",
       "</div>"
      ],
      "text/plain": [
       "   item_id_ctr  item_id_rec   cos_sim\n",
       "0            1           80  0.030077\n",
       "1            1            4  0.035573\n",
       "2            1           40  0.041815"
      ]
     },
     "execution_count": 190,
     "metadata": {},
     "output_type": "execute_result"
    }
   ],
   "source": [
    "itemcf = sqldf('''\n",
    "SELECT \n",
    "     item_id_ctr\n",
    "    ,item_id_rec\n",
    "    ,cos_sim\n",
    "FROM (\n",
    "    SELECT \n",
    "         d.item_id_ctr\n",
    "        ,d.item_id_rec\n",
    "        ,d.vec_dot/ (l1.vec_len*l2.vec_len) AS cos_sim\n",
    "        ,ROW_NUMBER() OVER(PARTITION BY item_id_ctr ORDER BY d.vec_dot/ (l1.vec_len*l2.vec_len)) AS rank\n",
    "    FROM vec_dot d \n",
    "    JOIN item_vec_len l1 ON d.item_id_ctr = l1.item_id\n",
    "    JOIN item_vec_len l2 ON d.item_id_rec = l2.item_id\n",
    ") t\n",
    "-- WHERE rank <=3   -- kNN  k=3\n",
    "''')\n",
    "\n",
    "itemcf.head(3)"
   ]
  },
  {
   "cell_type": "code",
   "execution_count": 191,
   "id": "304109a7-9088-4653-9570-564bc6661a59",
   "metadata": {},
   "outputs": [
    {
     "data": {
      "text/html": [
       "<div>\n",
       "<style scoped>\n",
       "    .dataframe tbody tr th:only-of-type {\n",
       "        vertical-align: middle;\n",
       "    }\n",
       "\n",
       "    .dataframe tbody tr th {\n",
       "        vertical-align: top;\n",
       "    }\n",
       "\n",
       "    .dataframe thead th {\n",
       "        text-align: right;\n",
       "    }\n",
       "</style>\n",
       "<table border=\"1\" class=\"dataframe\">\n",
       "  <thead>\n",
       "    <tr style=\"text-align: right;\">\n",
       "      <th></th>\n",
       "      <th>userId</th>\n",
       "      <th>movieId</th>\n",
       "    </tr>\n",
       "  </thead>\n",
       "  <tbody>\n",
       "    <tr>\n",
       "      <th>0</th>\n",
       "      <td>1</td>\n",
       "      <td>2492</td>\n",
       "    </tr>\n",
       "    <tr>\n",
       "      <th>1</th>\n",
       "      <td>1</td>\n",
       "      <td>2012</td>\n",
       "    </tr>\n",
       "    <tr>\n",
       "      <th>2</th>\n",
       "      <td>1</td>\n",
       "      <td>2478</td>\n",
       "    </tr>\n",
       "  </tbody>\n",
       "</table>\n",
       "</div>"
      ],
      "text/plain": [
       "   userId  movieId\n",
       "0       1     2492\n",
       "1       1     2012\n",
       "2       1     2478"
      ]
     },
     "execution_count": 191,
     "metadata": {},
     "output_type": "execute_result"
    }
   ],
   "source": [
    "user_current_view = sqldf(''' \n",
    "SELECT\n",
    "    userId\n",
    "    ,movieId\n",
    "FROM (\n",
    "    SELECT \n",
    "         userId\n",
    "        ,movieId\n",
    "        ,rating\n",
    "        ,timestamp\n",
    "        ,ROW_NUMBER() OVER(PARTITION BY userId ORDER BY timestamp DESC) AS rank\n",
    "    FROM ratings_df\n",
    "    ORDER BY userId, rank\n",
    ") t\n",
    "-- WHERE rank<=10   -- user history window size\n",
    "''')\n",
    "\n",
    "user_current_view.head(3)"
   ]
  },
  {
   "cell_type": "code",
   "execution_count": 192,
   "id": "e7f616d1-31c0-4714-8e11-b5fb998d5abe",
   "metadata": {},
   "outputs": [
    {
     "data": {
      "text/html": [
       "<div>\n",
       "<style scoped>\n",
       "    .dataframe tbody tr th:only-of-type {\n",
       "        vertical-align: middle;\n",
       "    }\n",
       "\n",
       "    .dataframe tbody tr th {\n",
       "        vertical-align: top;\n",
       "    }\n",
       "\n",
       "    .dataframe thead th {\n",
       "        text-align: right;\n",
       "    }\n",
       "</style>\n",
       "<table border=\"1\" class=\"dataframe\">\n",
       "  <thead>\n",
       "    <tr style=\"text-align: right;\">\n",
       "      <th></th>\n",
       "      <th>userId</th>\n",
       "      <th>item_id_rec</th>\n",
       "      <th>rec_score</th>\n",
       "    </tr>\n",
       "  </thead>\n",
       "  <tbody>\n",
       "    <tr>\n",
       "      <th>0</th>\n",
       "      <td>1</td>\n",
       "      <td>50</td>\n",
       "      <td>8.391069</td>\n",
       "    </tr>\n",
       "    <tr>\n",
       "      <th>1</th>\n",
       "      <td>1</td>\n",
       "      <td>47</td>\n",
       "      <td>8.726770</td>\n",
       "    </tr>\n",
       "    <tr>\n",
       "      <th>2</th>\n",
       "      <td>1</td>\n",
       "      <td>32</td>\n",
       "      <td>11.521927</td>\n",
       "    </tr>\n",
       "  </tbody>\n",
       "</table>\n",
       "</div>"
      ],
      "text/plain": [
       "   userId  item_id_rec  rec_score\n",
       "0       1           50   8.391069\n",
       "1       1           47   8.726770\n",
       "2       1           32  11.521927"
      ]
     },
     "execution_count": 192,
     "metadata": {},
     "output_type": "execute_result"
    }
   ],
   "source": [
    "recommendation = sqldf('''\n",
    "SELECT \n",
    "     t.userId\n",
    "    ,t.item_id_rec\n",
    "    ,rec_score\n",
    "--    ,rank\n",
    "FROM (\n",
    "    SELECT\n",
    "        cv.userId\n",
    "        ,icf.item_id_rec\n",
    "        ,SUM(cos_sim * r.rating) AS rec_score\n",
    "        ,ROW_NUMBER() OVER(PARTITION BY cv.userId ORDER BY cos_sim * r.rating DESC) AS rank\n",
    "    FROM user_current_view cv INNER JOIN itemcf icf\n",
    "    ON cv.movieId = icf.item_id_ctr\n",
    "    LEFT JOIN ratings_df_sample r ON cv.userId=r.userId AND icf.item_id_ctr=r.movieId\n",
    "    GROUP BY cv.userId, item_id_rec\n",
    ") t\n",
    "-- WHERE rank <=10  -- only recommand top 10\n",
    "''')\n",
    "recommendation.head(3)"
   ]
  },
  {
   "cell_type": "code",
   "execution_count": 193,
   "id": "3cec48a3-084a-4215-b53a-12fbbc6e38e7",
   "metadata": {},
   "outputs": [],
   "source": [
    "result = recommendation.merge(ratings_df_sample, left_on=['userId','item_id_rec'], right_on=['userId','movieId'])"
   ]
  },
  {
   "cell_type": "code",
   "execution_count": 194,
   "id": "b5f16249-87a0-42da-b6c6-316aa666f21d",
   "metadata": {},
   "outputs": [
    {
     "data": {
      "text/html": [
       "<div>\n",
       "<style scoped>\n",
       "    .dataframe tbody tr th:only-of-type {\n",
       "        vertical-align: middle;\n",
       "    }\n",
       "\n",
       "    .dataframe tbody tr th {\n",
       "        vertical-align: top;\n",
       "    }\n",
       "\n",
       "    .dataframe thead th {\n",
       "        text-align: right;\n",
       "    }\n",
       "</style>\n",
       "<table border=\"1\" class=\"dataframe\">\n",
       "  <thead>\n",
       "    <tr style=\"text-align: right;\">\n",
       "      <th></th>\n",
       "      <th>userId</th>\n",
       "      <th>item_id_rec</th>\n",
       "      <th>rec_score</th>\n",
       "      <th>movieId</th>\n",
       "      <th>rating</th>\n",
       "      <th>timestamp</th>\n",
       "    </tr>\n",
       "  </thead>\n",
       "  <tbody>\n",
       "    <tr>\n",
       "      <th>0</th>\n",
       "      <td>1</td>\n",
       "      <td>50</td>\n",
       "      <td>8.391069</td>\n",
       "      <td>50</td>\n",
       "      <td>5.0</td>\n",
       "      <td>964982931</td>\n",
       "    </tr>\n",
       "    <tr>\n",
       "      <th>1</th>\n",
       "      <td>1</td>\n",
       "      <td>47</td>\n",
       "      <td>8.726770</td>\n",
       "      <td>47</td>\n",
       "      <td>5.0</td>\n",
       "      <td>964983815</td>\n",
       "    </tr>\n",
       "    <tr>\n",
       "      <th>2</th>\n",
       "      <td>1</td>\n",
       "      <td>6</td>\n",
       "      <td>8.381726</td>\n",
       "      <td>6</td>\n",
       "      <td>4.0</td>\n",
       "      <td>964982224</td>\n",
       "    </tr>\n",
       "    <tr>\n",
       "      <th>3</th>\n",
       "      <td>1</td>\n",
       "      <td>1</td>\n",
       "      <td>7.815375</td>\n",
       "      <td>1</td>\n",
       "      <td>4.0</td>\n",
       "      <td>964982703</td>\n",
       "    </tr>\n",
       "    <tr>\n",
       "      <th>4</th>\n",
       "      <td>1</td>\n",
       "      <td>70</td>\n",
       "      <td>6.816659</td>\n",
       "      <td>70</td>\n",
       "      <td>3.0</td>\n",
       "      <td>964982400</td>\n",
       "    </tr>\n",
       "    <tr>\n",
       "      <th>...</th>\n",
       "      <td>...</td>\n",
       "      <td>...</td>\n",
       "      <td>...</td>\n",
       "      <td>...</td>\n",
       "      <td>...</td>\n",
       "      <td>...</td>\n",
       "    </tr>\n",
       "    <tr>\n",
       "      <th>3071</th>\n",
       "      <td>610</td>\n",
       "      <td>50</td>\n",
       "      <td>13.940543</td>\n",
       "      <td>50</td>\n",
       "      <td>4.0</td>\n",
       "      <td>1493844757</td>\n",
       "    </tr>\n",
       "    <tr>\n",
       "      <th>3072</th>\n",
       "      <td>610</td>\n",
       "      <td>16</td>\n",
       "      <td>12.259866</td>\n",
       "      <td>16</td>\n",
       "      <td>4.5</td>\n",
       "      <td>1479542171</td>\n",
       "    </tr>\n",
       "    <tr>\n",
       "      <th>3073</th>\n",
       "      <td>610</td>\n",
       "      <td>32</td>\n",
       "      <td>14.607885</td>\n",
       "      <td>32</td>\n",
       "      <td>4.5</td>\n",
       "      <td>1479543331</td>\n",
       "    </tr>\n",
       "    <tr>\n",
       "      <th>3074</th>\n",
       "      <td>610</td>\n",
       "      <td>1</td>\n",
       "      <td>11.676745</td>\n",
       "      <td>1</td>\n",
       "      <td>5.0</td>\n",
       "      <td>1479542900</td>\n",
       "    </tr>\n",
       "    <tr>\n",
       "      <th>3075</th>\n",
       "      <td>610</td>\n",
       "      <td>95</td>\n",
       "      <td>10.399911</td>\n",
       "      <td>95</td>\n",
       "      <td>3.5</td>\n",
       "      <td>1479542004</td>\n",
       "    </tr>\n",
       "  </tbody>\n",
       "</table>\n",
       "<p>3076 rows × 6 columns</p>\n",
       "</div>"
      ],
      "text/plain": [
       "      userId  item_id_rec  rec_score  movieId  rating   timestamp\n",
       "0          1           50   8.391069       50     5.0   964982931\n",
       "1          1           47   8.726770       47     5.0   964983815\n",
       "2          1            6   8.381726        6     4.0   964982224\n",
       "3          1            1   7.815375        1     4.0   964982703\n",
       "4          1           70   6.816659       70     3.0   964982400\n",
       "...      ...          ...        ...      ...     ...         ...\n",
       "3071     610           50  13.940543       50     4.0  1493844757\n",
       "3072     610           16  12.259866       16     4.5  1479542171\n",
       "3073     610           32  14.607885       32     4.5  1479543331\n",
       "3074     610            1  11.676745        1     5.0  1479542900\n",
       "3075     610           95  10.399911       95     3.5  1479542004\n",
       "\n",
       "[3076 rows x 6 columns]"
      ]
     },
     "execution_count": 194,
     "metadata": {},
     "output_type": "execute_result"
    }
   ],
   "source": [
    "result"
   ]
  },
  {
   "cell_type": "code",
   "execution_count": 195,
   "id": "3e3a1b49-aac3-4aa6-af66-048e3013cb32",
   "metadata": {},
   "outputs": [],
   "source": [
    "error = (result['rating'] - result['rec_score'])"
   ]
  },
  {
   "cell_type": "code",
   "execution_count": 196,
   "id": "569e644e-c8a0-4ba3-90df-09aba325472f",
   "metadata": {},
   "outputs": [
    {
     "data": {
      "text/plain": [
       "-8.078974730589504"
      ]
     },
     "execution_count": 196,
     "metadata": {},
     "output_type": "execute_result"
    }
   ],
   "source": [
    "error.mean()"
   ]
  },
  {
   "cell_type": "code",
   "execution_count": 197,
   "id": "6c41aed4-9558-441f-9f11-f8657168409d",
   "metadata": {},
   "outputs": [
    {
     "data": {
      "text/plain": [
       "<AxesSubplot:ylabel='Frequency'>"
      ]
     },
     "execution_count": 197,
     "metadata": {},
     "output_type": "execute_result"
    },
    {
     "data": {
      "image/png": "[encoded data removed]",
      "text/plain": [
       "<Figure size 432x288 with 1 Axes>"
      ]
     },
     "metadata": {},
     "output_type": "display_data"
    }
   ],
   "source": [
    "(error-error.mean()).plot(kind='hist', bins = range(-50,50,2))"
   ]
  },
  {
   "cell_type": "code",
   "execution_count": 198,
   "id": "98e6b0dc-e9b3-4521-8b34-435a4ce75782",
   "metadata": {},
   "outputs": [
    {
     "data": {
      "text/plain": [
       "-1.5548319747728332e-14"
      ]
     },
     "execution_count": 198,
     "metadata": {},
     "output_type": "execute_result"
    }
   ],
   "source": [
    "(error-error.mean()).mean()"
   ]
  },
  {
   "cell_type": "code",
   "execution_count": null,
   "id": "e87f2057-5946-4609-8908-0876664911df",
   "metadata": {},
   "outputs": [],
   "source": []
  },
  {
   "cell_type": "code",
   "execution_count": null,
   "id": "be3ab0d2-153a-4ae5-bab0-314c6f69ecd1",
   "metadata": {},
   "outputs": [],
   "source": []
  }
 ],
 "metadata": {
  "kernelspec": {
   "display_name": "Python 3",
   "language": "python",
   "name": "python3"
  },
  "language_info": {
   "codemirror_mode": {
    "name": "ipython",
    "version": 3
   },
   "file_extension": ".py",
   "mimetype": "text/x-python",
   "name": "python",
   "nbconvert_exporter": "python",
   "pygments_lexer": "ipython3",
   "version": "3.9.5"
  }
 },
 "nbformat": 4,
 "nbformat_minor": 5
}
