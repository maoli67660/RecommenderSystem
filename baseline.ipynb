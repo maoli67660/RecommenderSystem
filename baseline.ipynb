{
 "cells": [
  {
   "cell_type": "code",
   "execution_count": 27,
   "id": "195760ab-e550-431a-ae39-b9b75f52ca84",
   "metadata": {},
   "outputs": [],
   "source": [
    "import numpy as np\n",
    "import pandas as pd\n",
    "import matplotlib.pyplot as plt\n",
    "import seaborn as sns\n",
    "from sklearn.metrics import r2_score, mean_absolute_error, max_error\n",
    "\n",
    "sns.set()"
   ]
  },
  {
   "cell_type": "code",
   "execution_count": 2,
   "id": "bef0484b-9089-4fe5-9693-ea47e2f3b576",
   "metadata": {},
   "outputs": [],
   "source": [
    "class BaselineCFBySGD:\n",
    "    def __init__(self, number_epochs, alpha, reg, columns):\n",
    "        self.number_epochs = number_epochs\n",
    "        self.alpha = alpha\n",
    "        self.reg = reg  # regularization\n",
    "        self.columns = columns\n",
    "    \n",
    "    def fit(self, dataset):\n",
    "        self.dataset = dataset\n",
    "        self.user_ratings = dataset.groupby(self.columns[0]).agg([list])[[self.columns[1], self.columns[2]]]\n",
    "        self.item_ratings = dataset.groupby(self.columns[1]).agg([list])[[self.columns[0], self.columns[2]]]\n",
    "        self.global_mean = dataset[self.columns[2]].mean()\n",
    "        \n",
    "        self.bu, self.bi = self.sgd()\n",
    "    \n",
    "    def sgd(self):\n",
    "        bu = dict(zip(self.user_ratings.index, np.zeros(len(self.user_ratings))))\n",
    "        bi = dict(zip(self.item_ratings.index, np.zeros(len(self.item_ratings))))\n",
    "        \n",
    "        for i in range(self.number_epochs):\n",
    "            print(f'iter {i}')\n",
    "            for uid, iid, real_rating in self.dataset.itertuples(index=False):\n",
    "                error = real_rating - (self.global_mean + bu[uid] + bi[iid])\n",
    "                bu[uid] += self.alpha*(error - self.reg * bu[uid])\n",
    "                bi[iid] += self.alpha*(error - self.reg * bi[iid])\n",
    "        return bu, bi\n",
    "    \n",
    "    def predict(self):\n",
    "        predict_rating = []\n",
    "        for uid in self.user_ratings.index:\n",
    "            for iid in self.item_ratings.index:\n",
    "                predict_rating.append((uid, iid,  self.global_mean + self.bu[uid] + self.bi[iid]))\n",
    "        return pd.DataFrame(predict_rating, columns=self.columns[:-1]+['prediction'])"
   ]
  },
  {
   "cell_type": "code",
   "execution_count": 3,
   "id": "6aadfbae-6b6d-445f-8510-766f1d6e7d85",
   "metadata": {},
   "outputs": [],
   "source": [
    "dtype = [('userId', np.int32), ('movieId', np.int32), ('rating', np.float32)]\n",
    "dataset = pd.read_csv('ml-latest-small/ratings.csv', dtype=dict(dtype), usecols=range(3))"
   ]
  },
  {
   "cell_type": "code",
   "execution_count": null,
   "id": "7ace46b2-5810-4a02-98d4-fac7a1e8b8df",
   "metadata": {},
   "outputs": [],
   "source": []
  },
  {
   "cell_type": "code",
   "execution_count": 4,
   "id": "322a96cf-f65d-4683-b511-0fc3408f63b2",
   "metadata": {},
   "outputs": [
    {
     "name": "stdout",
     "output_type": "stream",
     "text": [
      "iter 0\n",
      "iter 1\n",
      "iter 2\n",
      "iter 3\n",
      "iter 4\n",
      "iter 5\n",
      "iter 6\n",
      "iter 7\n",
      "iter 8\n",
      "iter 9\n",
      "iter 10\n",
      "iter 11\n",
      "iter 12\n",
      "iter 13\n",
      "iter 14\n",
      "iter 15\n",
      "iter 16\n",
      "iter 17\n",
      "iter 18\n",
      "iter 19\n"
     ]
    }
   ],
   "source": [
    "bcf = BaselineCFBySGD(20, 0.1, 0.1, ['userId','movieId','rating'])\n",
    "bcf.fit(dataset)"
   ]
  },
  {
   "cell_type": "code",
   "execution_count": 5,
   "id": "62902524-40ff-48b2-a99c-6d9a92b2c3ab",
   "metadata": {},
   "outputs": [
    {
     "data": {
      "text/html": [
       "<div>\n",
       "<style scoped>\n",
       "    .dataframe tbody tr th:only-of-type {\n",
       "        vertical-align: middle;\n",
       "    }\n",
       "\n",
       "    .dataframe tbody tr th {\n",
       "        vertical-align: top;\n",
       "    }\n",
       "\n",
       "    .dataframe thead th {\n",
       "        text-align: right;\n",
       "    }\n",
       "</style>\n",
       "<table border=\"1\" class=\"dataframe\">\n",
       "  <thead>\n",
       "    <tr style=\"text-align: right;\">\n",
       "      <th></th>\n",
       "      <th>userId</th>\n",
       "      <th>movieId</th>\n",
       "      <th>prediction</th>\n",
       "    </tr>\n",
       "  </thead>\n",
       "  <tbody>\n",
       "    <tr>\n",
       "      <th>0</th>\n",
       "      <td>1</td>\n",
       "      <td>1</td>\n",
       "      <td>4.363069</td>\n",
       "    </tr>\n",
       "    <tr>\n",
       "      <th>1</th>\n",
       "      <td>1</td>\n",
       "      <td>2</td>\n",
       "      <td>4.282875</td>\n",
       "    </tr>\n",
       "    <tr>\n",
       "      <th>2</th>\n",
       "      <td>1</td>\n",
       "      <td>3</td>\n",
       "      <td>3.732900</td>\n",
       "    </tr>\n",
       "    <tr>\n",
       "      <th>3</th>\n",
       "      <td>1</td>\n",
       "      <td>4</td>\n",
       "      <td>3.170185</td>\n",
       "    </tr>\n",
       "    <tr>\n",
       "      <th>4</th>\n",
       "      <td>1</td>\n",
       "      <td>5</td>\n",
       "      <td>3.345300</td>\n",
       "    </tr>\n",
       "    <tr>\n",
       "      <th>...</th>\n",
       "      <td>...</td>\n",
       "      <td>...</td>\n",
       "      <td>...</td>\n",
       "    </tr>\n",
       "    <tr>\n",
       "      <th>5931635</th>\n",
       "      <td>610</td>\n",
       "      <td>193581</td>\n",
       "      <td>4.369263</td>\n",
       "    </tr>\n",
       "    <tr>\n",
       "      <th>5931636</th>\n",
       "      <td>610</td>\n",
       "      <td>193583</td>\n",
       "      <td>3.947016</td>\n",
       "    </tr>\n",
       "    <tr>\n",
       "      <th>5931637</th>\n",
       "      <td>610</td>\n",
       "      <td>193585</td>\n",
       "      <td>3.948741</td>\n",
       "    </tr>\n",
       "    <tr>\n",
       "      <th>5931638</th>\n",
       "      <td>610</td>\n",
       "      <td>193587</td>\n",
       "      <td>3.950293</td>\n",
       "    </tr>\n",
       "    <tr>\n",
       "      <th>5931639</th>\n",
       "      <td>610</td>\n",
       "      <td>193609</td>\n",
       "      <td>4.203459</td>\n",
       "    </tr>\n",
       "  </tbody>\n",
       "</table>\n",
       "<p>5931640 rows × 3 columns</p>\n",
       "</div>"
      ],
      "text/plain": [
       "         userId  movieId  prediction\n",
       "0             1        1    4.363069\n",
       "1             1        2    4.282875\n",
       "2             1        3    3.732900\n",
       "3             1        4    3.170185\n",
       "4             1        5    3.345300\n",
       "...         ...      ...         ...\n",
       "5931635     610   193581    4.369263\n",
       "5931636     610   193583    3.947016\n",
       "5931637     610   193585    3.948741\n",
       "5931638     610   193587    3.950293\n",
       "5931639     610   193609    4.203459\n",
       "\n",
       "[5931640 rows x 3 columns]"
      ]
     },
     "execution_count": 5,
     "metadata": {},
     "output_type": "execute_result"
    }
   ],
   "source": [
    "prediction = bcf.predict()\n",
    "\n",
    "prediction"
   ]
  },
  {
   "cell_type": "markdown",
   "id": "46308f37-36c5-40d2-b563-a178c0e85d4d",
   "metadata": {},
   "source": [
    "# ---------------------------------------------"
   ]
  },
  {
   "cell_type": "code",
   "execution_count": 26,
   "id": "4887a5a2-f19d-47f1-b2b0-5e3e3a02f636",
   "metadata": {},
   "outputs": [
    {
     "data": {
      "text/plain": [
       "((100836, 3), (5931640, 3))"
      ]
     },
     "execution_count": 26,
     "metadata": {},
     "output_type": "execute_result"
    }
   ],
   "source": [
    "prediction_real = dataset.merge(prediction, how='inner', on=['userId','movieId'])\n",
    "dataset.shape, prediction.shape"
   ]
  },
  {
   "cell_type": "code",
   "execution_count": 12,
   "id": "4a4d76f8-8e87-4ae2-b930-31310f79a366",
   "metadata": {},
   "outputs": [
    {
     "data": {
      "text/plain": [
       "0.31162539296237324"
      ]
     },
     "execution_count": 12,
     "metadata": {},
     "output_type": "execute_result"
    }
   ],
   "source": [
    "r2_score(prediction_real['rating'], prediction_real['prediction'])"
   ]
  },
  {
   "cell_type": "code",
   "execution_count": 14,
   "id": "c922429a-807d-47c5-9a55-3f008181d8e9",
   "metadata": {},
   "outputs": [
    {
     "data": {
      "text/plain": [
       "0.6611546450322606"
      ]
     },
     "execution_count": 14,
     "metadata": {},
     "output_type": "execute_result"
    }
   ],
   "source": [
    "mean_absolute_error(prediction_real['rating'], prediction_real['prediction'])"
   ]
  },
  {
   "cell_type": "code",
   "execution_count": 18,
   "id": "9b6d7dfc-ca1e-4e0e-a234-a066352f58a0",
   "metadata": {},
   "outputs": [],
   "source": [
    "error = prediction_real['rating'] - prediction_real['prediction']"
   ]
  },
  {
   "cell_type": "code",
   "execution_count": 25,
   "id": "83ac817e-1d59-4bd2-b7be-457cd11dc6e5",
   "metadata": {},
   "outputs": [
    {
     "data": {
      "text/plain": [
       "<AxesSubplot:title={'center':'Residual distribution'}, ylabel='Frequency'>"
      ]
     },
     "execution_count": 25,
     "metadata": {},
     "output_type": "execute_result"
    },
    {
     "data": {
      "image/png": "[encoded data removed]",
      "text/plain": [
       "<Figure size 432x288 with 1 Axes>"
      ]
     },
     "metadata": {},
     "output_type": "display_data"
    }
   ],
   "source": [
    "plt.title('Residual distribution', fontsize=18)\n",
    "error.plot(kind='hist', bins=30)"
   ]
  },
  {
   "cell_type": "code",
   "execution_count": null,
   "id": "c644f5ed-b036-47f8-bc8e-c9af1837635c",
   "metadata": {},
   "outputs": [],
   "source": []
  },
  {
   "cell_type": "code",
   "execution_count": null,
   "id": "6ea6aa32-c854-44c7-87a5-2c5523b138fd",
   "metadata": {},
   "outputs": [],
   "source": []
  },
  {
   "cell_type": "code",
   "execution_count": null,
   "id": "e37af68c-5fe1-4186-82d4-b8e7d3dec0c9",
   "metadata": {},
   "outputs": [],
   "source": []
  }
 ],
 "metadata": {
  "kernelspec": {
   "display_name": "Python 3",
   "language": "python",
   "name": "python3"
  },
  "language_info": {
   "codemirror_mode": {
    "name": "ipython",
    "version": 3
   },
   "file_extension": ".py",
   "mimetype": "text/x-python",
   "name": "python",
   "nbconvert_exporter": "python",
   "pygments_lexer": "ipython3",
   "version": "3.9.5"
  }
 },
 "nbformat": 4,
 "nbformat_minor": 5
}
