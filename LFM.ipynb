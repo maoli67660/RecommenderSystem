{
 "cells": [
  {
   "cell_type": "code",
   "execution_count": 1,
   "id": "09b8699c-5b91-4a46-8ffb-770904567d5a",
   "metadata": {},
   "outputs": [],
   "source": [
    "import numpy as np\n",
    "import pandas as pd\n",
    "import matplotlib.pyplot as plt\n",
    "import seaborn as sns\n",
    "from sklearn.metrics import r2_score, mean_absolute_error, max_error\n",
    "\n",
    "sns.set()"
   ]
  },
  {
   "cell_type": "code",
   "execution_count": 2,
   "id": "372b360c-802c-4f2a-8225-14659afbf7a1",
   "metadata": {},
   "outputs": [],
   "source": [
    "class LFM:\n",
    "    def __init__(self, alpha, reg_p, reg_q, K=10, epochs=10, columns=[]):\n",
    "        self.alpha = alpha\n",
    "        self.reg_p = reg_p   # egulariztion of maxtrix P\n",
    "        self.reg_q = reg_q   # egulariztion of maxtrix Q\n",
    "        self.K = K\n",
    "        self.epochs = epochs\n",
    "        self.columns = columns\n",
    "        self.history = []\n",
    "\n",
    "        \n",
    "    def _init_matrix(self):\n",
    "        P = dict(zip(self.users_ratings.index,\n",
    "                    np.random.rand(len(self.users_ratings), self.K).astype(np.float32)\n",
    "            ))\n",
    "        Q = dict(zip(self.items_ratings.index,\n",
    "                    np.random.rand(len(self.items_ratings), self.K).astype(np.float32)\n",
    "            ))\n",
    "        \n",
    "        return P, Q\n",
    "    \n",
    "    def sgd(self):\n",
    "        P, Q = self._init_matrix()\n",
    "        \n",
    "        for i in range(self.epochs):\n",
    "            \n",
    "            error_list = []\n",
    "            for uid, iid, r_ui in self.dataset.itertuples(index=False):\n",
    "                v_pu = P[uid]\n",
    "                v_qi = Q[iid]\n",
    "                err = np.float32(r_ui - np.dot(v_pu,v_qi))\n",
    "                \n",
    "                v_pu += self.alpha* (err * v_qi - self.reg_p * v_pu)\n",
    "                v_qi += self.alpha* (err * v_pu - self.reg_p * v_qi)\n",
    "                \n",
    "                P[uid] = v_pu\n",
    "                Q[iid] = v_qi\n",
    "                \n",
    "                error_list.append(err**2)\n",
    "                \n",
    "            if i%5==0:\n",
    "                print(f'iter-{i}  MSE = {err**2}')\n",
    "            self.history.append(np.sqrt(np.mean(error_list)))        \n",
    "        return P, Q\n",
    "    \n",
    "    def fit(self, dataset):\n",
    "        self.dataset = pd.DataFrame(dataset)\n",
    "        \n",
    "        self.users_ratings = dataset.groupby(self.columns[0]).agg([list])[[self.columns[1],self.columns[2]]]\n",
    "        self.items_ratings = dataset.groupby(self.columns[1]).agg([list])[[self.columns[0],self.columns[2]]]\n",
    "        self.P, self.Q = self.sgd()\n",
    "    \n",
    "    def predict(self):\n",
    "        P = np.array(list(lfm.P.values()))\n",
    "        Q = np.array(list(lfm.Q.values()))\n",
    "\n",
    "        prediction = pd.DataFrame(np.dot(P, Q.T))\n",
    "        prediction.index = dataset['userId'].unique()\n",
    "        prediction.columns = dataset['movieId'].unique()\n",
    "\n",
    "        prediction = prediction.unstack().to_frame().reset_index()\n",
    "        prediction.columns = ['movieId','userId','prediction']\n",
    "        return prediction"
   ]
  },
  {
   "cell_type": "code",
   "execution_count": 3,
   "id": "8b992946-1607-4bb1-8c01-fdf17ff35e87",
   "metadata": {},
   "outputs": [],
   "source": [
    "dtype = [('userId', np.int32), ('movieId', np.int32), ('rating', np.float32)]\n",
    "dataset = pd.read_csv('ml-latest-small/ratings.csv', dtype=dict(dtype), usecols=range(3))"
   ]
  },
  {
   "cell_type": "code",
   "execution_count": 4,
   "id": "c6ddddb2-dad1-4b39-8d77-eb46b1c0d5cd",
   "metadata": {},
   "outputs": [
    {
     "data": {
      "text/html": [
       "<div>\n",
       "<style scoped>\n",
       "    .dataframe tbody tr th:only-of-type {\n",
       "        vertical-align: middle;\n",
       "    }\n",
       "\n",
       "    .dataframe tbody tr th {\n",
       "        vertical-align: top;\n",
       "    }\n",
       "\n",
       "    .dataframe thead th {\n",
       "        text-align: right;\n",
       "    }\n",
       "</style>\n",
       "<table border=\"1\" class=\"dataframe\">\n",
       "  <thead>\n",
       "    <tr style=\"text-align: right;\">\n",
       "      <th></th>\n",
       "      <th>userId</th>\n",
       "      <th>movieId</th>\n",
       "      <th>rating</th>\n",
       "    </tr>\n",
       "  </thead>\n",
       "  <tbody>\n",
       "    <tr>\n",
       "      <th>0</th>\n",
       "      <td>1</td>\n",
       "      <td>1</td>\n",
       "      <td>4.0</td>\n",
       "    </tr>\n",
       "    <tr>\n",
       "      <th>1</th>\n",
       "      <td>1</td>\n",
       "      <td>3</td>\n",
       "      <td>4.0</td>\n",
       "    </tr>\n",
       "  </tbody>\n",
       "</table>\n",
       "</div>"
      ],
      "text/plain": [
       "   userId  movieId  rating\n",
       "0       1        1     4.0\n",
       "1       1        3     4.0"
      ]
     },
     "execution_count": 4,
     "metadata": {},
     "output_type": "execute_result"
    }
   ],
   "source": [
    "dataset.head(2)"
   ]
  },
  {
   "cell_type": "code",
   "execution_count": 33,
   "id": "c48a4872-f3a0-4442-a213-4941dd7bda40",
   "metadata": {},
   "outputs": [
    {
     "name": "stdout",
     "output_type": "stream",
     "text": [
      "iter-0  MSE = 1.7022828840183593\n",
      "iter-5  MSE = 1.1847243425372653\n",
      "iter-10  MSE = 0.848483005314904\n",
      "iter-15  MSE = 0.642344290661697\n",
      "iter-20  MSE = 0.5033500967556392\n",
      "iter-25  MSE = 0.402873523471726\n",
      "iter-30  MSE = 0.3263989795325415\n",
      "iter-35  MSE = 0.26603734172476834\n",
      "iter-40  MSE = 0.21721785236513824\n",
      "iter-45  MSE = 0.17713040807626612\n",
      "iter-50  MSE = 0.14392429075451219\n",
      "iter-55  MSE = 0.11630284425700665\n",
      "iter-60  MSE = 0.09330871017391473\n",
      "iter-65  MSE = 0.07419755036244169\n",
      "iter-70  MSE = 0.058367697633968874\n",
      "iter-75  MSE = 0.04532404245401267\n",
      "iter-80  MSE = 0.03465007480940585\n",
      "iter-85  MSE = 0.02598945219892812\n",
      "iter-90  MSE = 0.01903821288783547\n",
      "iter-95  MSE = 0.013535254817043096\n",
      "iter-100  MSE = 0.009252878371853512\n",
      "iter-105  MSE = 0.005996920301413411\n",
      "iter-110  MSE = 0.003599363736611849\n",
      "iter-115  MSE = 0.0019160699144435966\n",
      "iter-120  MSE = 0.0008234501866013488\n",
      "iter-125  MSE = 0.0002155627249180725\n",
      "iter-130  MSE = 2.766260877251625e-06\n",
      "iter-135  MSE = 0.0001088814517515857\n",
      "iter-140  MSE = 0.00046970703829174454\n",
      "iter-145  MSE = 0.0010316324556356449\n",
      "iter-150  MSE = 0.001749435035890201\n",
      "iter-155  MSE = 0.0025853258703136817\n",
      "iter-160  MSE = 0.003508401169710851\n",
      "iter-165  MSE = 0.004492822827387499\n",
      "iter-170  MSE = 0.005517344806321489\n",
      "iter-175  MSE = 0.006564607032487402\n",
      "iter-180  MSE = 0.00761959420765379\n",
      "iter-185  MSE = 0.008671441479236819\n",
      "iter-190  MSE = 0.009710661807048382\n",
      "iter-195  MSE = 0.010728815989068607\n"
     ]
    }
   ],
   "source": [
    "lfm = LFM(0.001, 0, 0, epochs=200, columns=['userId','movieId','rating'])\n",
    "lfm.fit(dataset)"
   ]
  },
  {
   "cell_type": "code",
   "execution_count": 48,
   "id": "e9256314-4f03-484d-8da1-859d74086703",
   "metadata": {},
   "outputs": [
    {
     "data": {
      "text/plain": [
       "[<matplotlib.lines.Line2D at 0x7fe8699348b0>]"
      ]
     },
     "execution_count": 48,
     "metadata": {},
     "output_type": "execute_result"
    },
    {
     "data": {
      "image/png": "[encoded data removed]",
      "text/plain": [
       "<Figure size 432x288 with 1 Axes>"
      ]
     },
     "metadata": {},
     "output_type": "display_data"
    }
   ],
   "source": [
    "plt.plot(lfm.history, '-')"
   ]
  },
  {
   "cell_type": "code",
   "execution_count": 49,
   "id": "63ccd358-10a8-453d-be24-89cef2dd9c8d",
   "metadata": {},
   "outputs": [
    {
     "data": {
      "text/html": [
       "<div>\n",
       "<style scoped>\n",
       "    .dataframe tbody tr th:only-of-type {\n",
       "        vertical-align: middle;\n",
       "    }\n",
       "\n",
       "    .dataframe tbody tr th {\n",
       "        vertical-align: top;\n",
       "    }\n",
       "\n",
       "    .dataframe thead th {\n",
       "        text-align: right;\n",
       "    }\n",
       "</style>\n",
       "<table border=\"1\" class=\"dataframe\">\n",
       "  <thead>\n",
       "    <tr style=\"text-align: right;\">\n",
       "      <th></th>\n",
       "      <th>movieId</th>\n",
       "      <th>userId</th>\n",
       "      <th>prediction</th>\n",
       "    </tr>\n",
       "  </thead>\n",
       "  <tbody>\n",
       "    <tr>\n",
       "      <th>0</th>\n",
       "      <td>1</td>\n",
       "      <td>1</td>\n",
       "      <td>4.644064</td>\n",
       "    </tr>\n",
       "    <tr>\n",
       "      <th>1</th>\n",
       "      <td>1</td>\n",
       "      <td>2</td>\n",
       "      <td>3.800160</td>\n",
       "    </tr>\n",
       "    <tr>\n",
       "      <th>2</th>\n",
       "      <td>1</td>\n",
       "      <td>3</td>\n",
       "      <td>1.503404</td>\n",
       "    </tr>\n",
       "    <tr>\n",
       "      <th>3</th>\n",
       "      <td>1</td>\n",
       "      <td>4</td>\n",
       "      <td>3.157749</td>\n",
       "    </tr>\n",
       "    <tr>\n",
       "      <th>4</th>\n",
       "      <td>1</td>\n",
       "      <td>5</td>\n",
       "      <td>4.005111</td>\n",
       "    </tr>\n",
       "    <tr>\n",
       "      <th>...</th>\n",
       "      <td>...</td>\n",
       "      <td>...</td>\n",
       "      <td>...</td>\n",
       "    </tr>\n",
       "    <tr>\n",
       "      <th>5931635</th>\n",
       "      <td>163981</td>\n",
       "      <td>606</td>\n",
       "      <td>4.147664</td>\n",
       "    </tr>\n",
       "    <tr>\n",
       "      <th>5931636</th>\n",
       "      <td>163981</td>\n",
       "      <td>607</td>\n",
       "      <td>3.512741</td>\n",
       "    </tr>\n",
       "    <tr>\n",
       "      <th>5931637</th>\n",
       "      <td>163981</td>\n",
       "      <td>608</td>\n",
       "      <td>3.580937</td>\n",
       "    </tr>\n",
       "    <tr>\n",
       "      <th>5931638</th>\n",
       "      <td>163981</td>\n",
       "      <td>609</td>\n",
       "      <td>4.002397</td>\n",
       "    </tr>\n",
       "    <tr>\n",
       "      <th>5931639</th>\n",
       "      <td>163981</td>\n",
       "      <td>610</td>\n",
       "      <td>4.330090</td>\n",
       "    </tr>\n",
       "  </tbody>\n",
       "</table>\n",
       "<p>5931640 rows × 3 columns</p>\n",
       "</div>"
      ],
      "text/plain": [
       "         movieId  userId  prediction\n",
       "0              1       1    4.644064\n",
       "1              1       2    3.800160\n",
       "2              1       3    1.503404\n",
       "3              1       4    3.157749\n",
       "4              1       5    4.005111\n",
       "...          ...     ...         ...\n",
       "5931635   163981     606    4.147664\n",
       "5931636   163981     607    3.512741\n",
       "5931637   163981     608    3.580937\n",
       "5931638   163981     609    4.002397\n",
       "5931639   163981     610    4.330090\n",
       "\n",
       "[5931640 rows x 3 columns]"
      ]
     },
     "execution_count": 49,
     "metadata": {},
     "output_type": "execute_result"
    }
   ],
   "source": [
    "prediction = lfm.predict()\n",
    "prediction"
   ]
  },
  {
   "cell_type": "code",
   "execution_count": 37,
   "id": "134c0451-98aa-4d0f-b591-c5764479a8b5",
   "metadata": {},
   "outputs": [],
   "source": [
    "prediction_real = dataset.merge(prediction, how='inner', on=['userId','movieId'])"
   ]
  },
  {
   "cell_type": "code",
   "execution_count": 38,
   "id": "a49a5f16-b725-4534-b72b-955d7470a416",
   "metadata": {},
   "outputs": [
    {
     "data": {
      "text/html": [
       "<div>\n",
       "<style scoped>\n",
       "    .dataframe tbody tr th:only-of-type {\n",
       "        vertical-align: middle;\n",
       "    }\n",
       "\n",
       "    .dataframe tbody tr th {\n",
       "        vertical-align: top;\n",
       "    }\n",
       "\n",
       "    .dataframe thead th {\n",
       "        text-align: right;\n",
       "    }\n",
       "</style>\n",
       "<table border=\"1\" class=\"dataframe\">\n",
       "  <thead>\n",
       "    <tr style=\"text-align: right;\">\n",
       "      <th></th>\n",
       "      <th>userId</th>\n",
       "      <th>movieId</th>\n",
       "      <th>rating</th>\n",
       "      <th>prediction</th>\n",
       "    </tr>\n",
       "  </thead>\n",
       "  <tbody>\n",
       "    <tr>\n",
       "      <th>0</th>\n",
       "      <td>1</td>\n",
       "      <td>1</td>\n",
       "      <td>4.0</td>\n",
       "      <td>4.644064</td>\n",
       "    </tr>\n",
       "    <tr>\n",
       "      <th>1</th>\n",
       "      <td>1</td>\n",
       "      <td>3</td>\n",
       "      <td>4.0</td>\n",
       "      <td>4.298036</td>\n",
       "    </tr>\n",
       "    <tr>\n",
       "      <th>2</th>\n",
       "      <td>1</td>\n",
       "      <td>6</td>\n",
       "      <td>4.0</td>\n",
       "      <td>3.937638</td>\n",
       "    </tr>\n",
       "    <tr>\n",
       "      <th>3</th>\n",
       "      <td>1</td>\n",
       "      <td>47</td>\n",
       "      <td>5.0</td>\n",
       "      <td>2.967694</td>\n",
       "    </tr>\n",
       "    <tr>\n",
       "      <th>4</th>\n",
       "      <td>1</td>\n",
       "      <td>50</td>\n",
       "      <td>5.0</td>\n",
       "      <td>3.518228</td>\n",
       "    </tr>\n",
       "    <tr>\n",
       "      <th>...</th>\n",
       "      <td>...</td>\n",
       "      <td>...</td>\n",
       "      <td>...</td>\n",
       "      <td>...</td>\n",
       "    </tr>\n",
       "    <tr>\n",
       "      <th>100831</th>\n",
       "      <td>610</td>\n",
       "      <td>166534</td>\n",
       "      <td>4.0</td>\n",
       "      <td>3.144808</td>\n",
       "    </tr>\n",
       "    <tr>\n",
       "      <th>100832</th>\n",
       "      <td>610</td>\n",
       "      <td>168248</td>\n",
       "      <td>5.0</td>\n",
       "      <td>3.367908</td>\n",
       "    </tr>\n",
       "    <tr>\n",
       "      <th>100833</th>\n",
       "      <td>610</td>\n",
       "      <td>168250</td>\n",
       "      <td>5.0</td>\n",
       "      <td>3.293264</td>\n",
       "    </tr>\n",
       "    <tr>\n",
       "      <th>100834</th>\n",
       "      <td>610</td>\n",
       "      <td>168252</td>\n",
       "      <td>5.0</td>\n",
       "      <td>2.799730</td>\n",
       "    </tr>\n",
       "    <tr>\n",
       "      <th>100835</th>\n",
       "      <td>610</td>\n",
       "      <td>170875</td>\n",
       "      <td>3.0</td>\n",
       "      <td>3.846460</td>\n",
       "    </tr>\n",
       "  </tbody>\n",
       "</table>\n",
       "<p>100836 rows × 4 columns</p>\n",
       "</div>"
      ],
      "text/plain": [
       "        userId  movieId  rating  prediction\n",
       "0            1        1     4.0    4.644064\n",
       "1            1        3     4.0    4.298036\n",
       "2            1        6     4.0    3.937638\n",
       "3            1       47     5.0    2.967694\n",
       "4            1       50     5.0    3.518228\n",
       "...        ...      ...     ...         ...\n",
       "100831     610   166534     4.0    3.144808\n",
       "100832     610   168248     5.0    3.367908\n",
       "100833     610   168250     5.0    3.293264\n",
       "100834     610   168252     5.0    2.799730\n",
       "100835     610   170875     3.0    3.846460\n",
       "\n",
       "[100836 rows x 4 columns]"
      ]
     },
     "execution_count": 38,
     "metadata": {},
     "output_type": "execute_result"
    }
   ],
   "source": [
    "prediction_real"
   ]
  },
  {
   "cell_type": "code",
   "execution_count": 39,
   "id": "a02366b2-f7e3-4eba-95ee-df51660f2077",
   "metadata": {},
   "outputs": [
    {
     "data": {
      "text/plain": [
       "-0.32851570196944757"
      ]
     },
     "execution_count": 39,
     "metadata": {},
     "output_type": "execute_result"
    }
   ],
   "source": [
    "r2_score(prediction_real['rating'], prediction_real['prediction'])"
   ]
  },
  {
   "cell_type": "code",
   "execution_count": 40,
   "id": "6f905da7-fe98-4b99-9b3e-7598091a6747",
   "metadata": {},
   "outputs": [
    {
     "data": {
      "text/plain": [
       "0.95280874"
      ]
     },
     "execution_count": 40,
     "metadata": {},
     "output_type": "execute_result"
    }
   ],
   "source": [
    "mean_absolute_error(prediction_real['rating'], prediction_real['prediction'])"
   ]
  },
  {
   "cell_type": "code",
   "execution_count": 41,
   "id": "27eda5db-89b6-4a38-8090-26d89d71979c",
   "metadata": {},
   "outputs": [
    {
     "data": {
      "text/plain": [
       "<AxesSubplot:title={'center':'Residual distribution'}, ylabel='Frequency'>"
      ]
     },
     "execution_count": 41,
     "metadata": {},
     "output_type": "execute_result"
    },
    {
     "data": {
      "image/png": "[encoded data removed]",
      "text/plain": [
       "<Figure size 432x288 with 1 Axes>"
      ]
     },
     "metadata": {},
     "output_type": "display_data"
    }
   ],
   "source": [
    "error = prediction_real['rating'] - prediction_real['prediction']\n",
    "plt.title('Residual distribution', fontsize=18)\n",
    "error.plot(kind='hist', bins=30)"
   ]
  },
  {
   "cell_type": "code",
   "execution_count": 42,
   "id": "1a792900-d4e0-4b30-a8f4-884058d3fecb",
   "metadata": {},
   "outputs": [
    {
     "data": {
      "text/plain": [
       "(0.2338278889656067, 1.1786539554595947)"
      ]
     },
     "execution_count": 42,
     "metadata": {},
     "output_type": "execute_result"
    }
   ],
   "source": [
    "error.mean(), error.std()"
   ]
  },
  {
   "cell_type": "code",
   "execution_count": null,
   "id": "4fbae072-ba51-4b20-85b1-01bf51d7677a",
   "metadata": {},
   "outputs": [],
   "source": []
  },
  {
   "cell_type": "code",
   "execution_count": null,
   "id": "39318cd3-7ce1-4442-a8dd-8e5f1d9392dd",
   "metadata": {},
   "outputs": [],
   "source": []
  }
 ],
 "metadata": {
  "kernelspec": {
   "display_name": "Python 3",
   "language": "python",
   "name": "python3"
  },
  "language_info": {
   "codemirror_mode": {
    "name": "ipython",
    "version": 3
   },
   "file_extension": ".py",
   "mimetype": "text/x-python",
   "name": "python",
   "nbconvert_exporter": "python",
   "pygments_lexer": "ipython3",
   "version": "3.9.5"
  }
 },
 "nbformat": 4,
 "nbformat_minor": 5
}
