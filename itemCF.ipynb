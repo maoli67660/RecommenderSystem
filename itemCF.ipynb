{
 "cells": [
  {
   "cell_type": "code",
   "execution_count": 12,
   "id": "a6a42a70-207c-4531-ae8b-5b6188cef776",
   "metadata": {},
   "outputs": [],
   "source": [
    "import pandas as pd\n",
    "from pandasql import sqldf\n",
    "import matplotlib.pyplot as plt\n",
    "import seaborn as sns\n",
    "from collections import defaultdict\n",
    "from tqdm import tqdm\n",
    "sns.set()"
   ]
  },
  {
   "cell_type": "code",
   "execution_count": 13,
   "id": "7b14345f-1c9d-40e9-a8ca-f6a0425fa1f6",
   "metadata": {},
   "outputs": [],
   "source": [
    "PATH = 'ml-latest-small'\n",
    "# tags_df = pd.read_csv(f'{PATH}/tags.csv')\n",
    "# movie_info_df = pd.read_csv(f'{PATH}/movies.csv')"
   ]
  },
  {
   "cell_type": "code",
   "execution_count": 14,
   "id": "53199466-e77a-4a95-bfa7-4abbf798f7de",
   "metadata": {},
   "outputs": [],
   "source": [
    "ratings_df = pd.read_csv(f'{PATH}/ratings.csv', dtype={'userId':'int', 'movieId':'int'})\n",
    "ratings_df['date'] = pd.to_datetime(ratings_df['timestamp'],unit='s').dt.strftime('%Y-%m-%d')"
   ]
  },
  {
   "cell_type": "code",
   "execution_count": 15,
   "id": "46b062af-ce19-46d1-9564-0ac269a9da72",
   "metadata": {},
   "outputs": [
    {
     "data": {
      "text/plain": [
       "610"
      ]
     },
     "execution_count": 15,
     "metadata": {},
     "output_type": "execute_result"
    }
   ],
   "source": [
    "ratings_df.userId.unique().size"
   ]
  },
  {
   "cell_type": "code",
   "execution_count": 16,
   "id": "5b165fbe-2b4a-4e04-bed7-35274c2a5bf0",
   "metadata": {},
   "outputs": [
    {
     "data": {
      "text/plain": [
       "((86220, 5), (14616, 5))"
      ]
     },
     "execution_count": 16,
     "metadata": {},
     "output_type": "execute_result"
    }
   ],
   "source": [
    "ratings_df_train = ratings_df[ratings_df.date<'2017-01-01']\n",
    "ratings_df_test = ratings_df[ratings_df.date>='2017-01-01']\n",
    "\n",
    "ratings_df_train.shape, ratings_df_test.shape"
   ]
  },
  {
   "cell_type": "code",
   "execution_count": 17,
   "id": "e87f2057-5946-4609-8908-0876664911df",
   "metadata": {},
   "outputs": [
    {
     "name": "stderr",
     "output_type": "stream",
     "text": [
      "86220it [00:06, 12592.23it/s]\n"
     ]
    }
   ],
   "source": [
    "user_item_dict = defaultdict(dict)\n",
    "item_user_dict = defaultdict(dict)\n",
    "for row in tqdm(ratings_df_train.iterrows()):\n",
    "    rating = row[1]['rating']\n",
    "    item_id = int(row[1]['movieId'])\n",
    "    user_id = int(row[1]['userId'])\n",
    "    user_item_dict[user_id][item_id] = rating\n",
    "    item_user_dict[item_id][user_id] = rating"
   ]
  },
  {
   "cell_type": "code",
   "execution_count": 18,
   "id": "12526771-ecc7-4f73-8904-6b2ad395e963",
   "metadata": {},
   "outputs": [],
   "source": [
    "def similarity(user_item_dict, item_a_id, item_b_id):\n",
    "    user_set_a = set(item_user_dict[item_a_id])\n",
    "    user_set_b = set(item_user_dict[item_b_id])\n",
    "    user_set_a_b = user_set_a & user_set_b\n",
    "    if not user_set_a_b:\n",
    "        return 0\n",
    "    \n",
    "    len_a = sum(map(lambda x:x**2,item_user_dict[item_a_id].values()))**0.5\n",
    "    len_b = sum(map(lambda x:x**2,item_user_dict[item_b_id].values()))**0.5\n",
    "    a_dot_b = sum([item_user_dict[item_a_id][key]*item_user_dict[item_b_id][key] \\\n",
    "            for key in user_set_a_b])\n",
    "    return  round(a_dot_b/(len_a * len_b), 2)"
   ]
  },
  {
   "cell_type": "code",
   "execution_count": 19,
   "id": "55b855c8-40ac-43ba-b8d3-199aae8ca077",
   "metadata": {},
   "outputs": [],
   "source": [
    "def get_i2i_matrix(ratings_df_train):\n",
    "    item_item_dict = {item:list() for item in ratings_df_train.movieId.unique()}\n",
    "    for item_a_id in tqdm(item_item_dict):\n",
    "        for item_b_id in item_item_dict:\n",
    "            distance = similarity(user_item_dict, item_a_id, item_b_id)\n",
    "            if distance!=0:\n",
    "                item_item_dict[item_a_id].append((item_b_id, distance))\n",
    "        item_item_dict[item_a_id].sort(key=lambda x:x[1], reverse=True)\n",
    "    return item_item_dict"
   ]
  },
  {
   "cell_type": "code",
   "execution_count": 21,
   "id": "7785a6c5-c4ba-49ac-9473-12d288679bee",
   "metadata": {},
   "outputs": [
    {
     "name": "stderr",
     "output_type": "stream",
     "text": [
      "100%|██████████| 8283/8283 [08:50<00:00, 15.61it/s]  \n"
     ]
    }
   ],
   "source": [
    "item_item_dict = get_i2i_matrix(ratings_df_train)"
   ]
  },
  {
   "cell_type": "code",
   "execution_count": null,
   "id": "9cdd42d4-7d24-4e3e-bef4-98aec8f128dc",
   "metadata": {},
   "outputs": [],
   "source": [
    "len(item_item_dict)"
   ]
  },
  {
   "cell_type": "code",
   "execution_count": null,
   "id": "a6b5b787-2692-4008-ae9a-befbc382ad3f",
   "metadata": {},
   "outputs": [],
   "source": []
  },
  {
   "cell_type": "markdown",
   "id": "08d46578-b371-435c-8b45-f579d3ccc680",
   "metadata": {},
   "source": [
    "# Recall"
   ]
  },
  {
   "cell_type": "code",
   "execution_count": 390,
   "id": "ac23786b-8019-4c37-bfd3-eb22d632f76b",
   "metadata": {},
   "outputs": [
    {
     "data": {
      "text/plain": [
       "8283"
      ]
     },
     "execution_count": 390,
     "metadata": {},
     "output_type": "execute_result"
    }
   ],
   "source": [
    "len(item_item_dict)"
   ]
  },
  {
   "cell_type": "code",
   "execution_count": 403,
   "id": "a31e76ae-61d9-434d-8d2e-03a3cd8b44fb",
   "metadata": {},
   "outputs": [],
   "source": [
    "def get_user_valued_item(ratings_df_train, ratings_df_test):\n",
    "    user_viewd_dict = dict()\n",
    "    test_user_id_list = ratings_df_test.userId.unique()\n",
    "    for user_id in test_user_id_list:\n",
    "        user_log = ratings_df_train[ratings_df_train.userId == user_id]\n",
    "        user_viewd = user_log.movieId.unique()\n",
    "        if len(user_viewd)!=0:\n",
    "            user_viewd_dict[user_id] = user_viewd\n",
    "    return user_viewd_dict"
   ]
  },
  {
   "cell_type": "code",
   "execution_count": 406,
   "id": "c02cdb96-e796-41ce-9104-70ebcd24ab26",
   "metadata": {},
   "outputs": [],
   "source": [
    "user_viewd_dict = get_user_valued_item(ratings_df_train, ratings_df_test)"
   ]
  },
  {
   "cell_type": "code",
   "execution_count": 408,
   "id": "25777931-14fd-4608-b21e-1cbab06fa7ce",
   "metadata": {},
   "outputs": [
    {
     "name": "stdout",
     "output_type": "stream",
     "text": [
      "dict_keys([15, 18, 21, 68, 103, 105, 106, 112, 119, 125, 210, 233, 249, 282, 292, 305, 318, 339, 341, 408, 414, 443, 448, 462, 511, 534, 601, 610])\n",
      "user_viewd_dict size:  28\n"
     ]
    }
   ],
   "source": [
    "print(user_viewd_dict.keys())\n",
    "print('user_viewd_dict size: ', len(user_viewd_dict.keys()))"
   ]
  },
  {
   "cell_type": "code",
   "execution_count": 490,
   "id": "0e75b7f8-5576-4daf-bc8f-e9898b2837e4",
   "metadata": {},
   "outputs": [
    {
     "name": "stderr",
     "output_type": "stream",
     "text": [
      "100%|██████████| 28/28 [00:25<00:00,  1.09it/s]\n"
     ]
    }
   ],
   "source": [
    "user_recall_dict = dict()\n",
    "for key in tqdm(user_viewd_dict):\n",
    "    recall_set = set()\n",
    "    for item_id in user_viewd_dict[key]:\n",
    "        recall_set.update((item_item_dict[item_id]))\n",
    "    user_recall_dict[key] = recall_set"
   ]
  },
  {
   "cell_type": "code",
   "execution_count": 491,
   "id": "bc4897b6-302a-4afc-a108-4a734b4e7bcb",
   "metadata": {},
   "outputs": [],
   "source": [
    "TOP_K = 100\n",
    "recall_dict = {}\n",
    "for uid in user_viewd_dict.keys():\n",
    "    recall = pd.DataFrame(user_recall_dict[uid], columns = ['item_id','cosine']).groupby('item_id').sum(). \\\n",
    "        sort_values(by=['cosine'], ascending = False).head(TOP_K).index\n",
    "    recall_dict[uid] = set(recall)"
   ]
  },
  {
   "cell_type": "markdown",
   "id": "15eb2a4a-65ec-4a71-919c-5e18c2cedd25",
   "metadata": {},
   "source": [
    "# Evaluate"
   ]
  },
  {
   "cell_type": "code",
   "execution_count": 492,
   "id": "894c54eb-f990-4739-bcb4-d8bc6244f9c9",
   "metadata": {},
   "outputs": [],
   "source": [
    "# 估计Top 100 Recall"
   ]
  },
  {
   "cell_type": "code",
   "execution_count": 495,
   "id": "f23e48a3-fd05-40c9-8e47-76e36c19b213",
   "metadata": {},
   "outputs": [
    {
     "data": {
      "text/plain": [
       "0.39285714285714285"
      ]
     },
     "execution_count": 495,
     "metadata": {},
     "output_type": "execute_result"
    }
   ],
   "source": [
    "max_rate = []\n",
    "for uid in recall_dict:\n",
    "    df = ratings_df_test[ratings_df_test.userId ==uid]\n",
    "    recall_item_id_set = recall_dict[uid] & set(df.movieId)\n",
    "    rating_ls = df[df.movieId.isin(recall_item_id_set)].rating\n",
    "    if len(rating_ls)!=0:\n",
    "        max_rate.append((max(rating_ls)))\n",
    "    else:\n",
    "        max_rate.append(0)\n",
    "    ls.append(len(recall_item_id_set))\n",
    "\n",
    "sum([i!=0 for i in max_rate])/len(max_rate)"
   ]
  },
  {
   "cell_type": "code",
   "execution_count": null,
   "id": "97d2d662-8c59-4310-8252-77d708462f46",
   "metadata": {},
   "outputs": [],
   "source": []
  },
  {
   "cell_type": "code",
   "execution_count": null,
   "id": "23e6b625-62da-4208-9f04-cefdc3b00684",
   "metadata": {},
   "outputs": [],
   "source": []
  },
  {
   "cell_type": "code",
   "execution_count": null,
   "id": "bb929abb-e52f-48da-aee0-0a6120ba804f",
   "metadata": {},
   "outputs": [],
   "source": []
  },
  {
   "cell_type": "code",
   "execution_count": null,
   "id": "0c7bd77b-671e-4acc-bb4e-87b6df5a4153",
   "metadata": {},
   "outputs": [],
   "source": []
  },
  {
   "cell_type": "code",
   "execution_count": null,
   "id": "1afb54dc-fdbd-4295-afc7-800ee4ff0b08",
   "metadata": {},
   "outputs": [],
   "source": []
  },
  {
   "cell_type": "code",
   "execution_count": null,
   "id": "bc51d31b-dc44-4e98-b730-ff80e37e6839",
   "metadata": {},
   "outputs": [],
   "source": []
  },
  {
   "cell_type": "code",
   "execution_count": null,
   "id": "e504032c-1347-49db-97cf-dc209f67669a",
   "metadata": {},
   "outputs": [],
   "source": []
  },
  {
   "cell_type": "code",
   "execution_count": null,
   "id": "b19a7375-508d-40c4-9e41-e4f5c7371781",
   "metadata": {},
   "outputs": [],
   "source": []
  }
 ],
 "metadata": {
  "kernelspec": {
   "display_name": "Python 3",
   "language": "python",
   "name": "python3"
  },
  "language_info": {
   "codemirror_mode": {
    "name": "ipython",
    "version": 3
   },
   "file_extension": ".py",
   "mimetype": "text/x-python",
   "name": "python",
   "nbconvert_exporter": "python",
   "pygments_lexer": "ipython3",
   "version": "3.9.5"
  }
 },
 "nbformat": 4,
 "nbformat_minor": 5
}
